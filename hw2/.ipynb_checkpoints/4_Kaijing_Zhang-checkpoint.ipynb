{
 "cells": [
  {
   "cell_type": "code",
   "execution_count": null,
   "metadata": {},
   "outputs": [],
   "source": [
    "res = list()\n",
    "while(True):\n",
    "    value = input(\"Please enter a value: \") # Let user enter a value\n",
    "    if value.lower() == 'done': # If user want to end, then stop and print\n",
    "        print(res)\n",
    "        mini = -len(res)\n",
    "        maxi = len(res) - 1\n",
    "        try:\n",
    "            index = input(f\"Please enter an integer between {mini} and {maxi}: \")\n",
    "            # Remind user what index is vaild\n",
    "        except:\n",
    "            print(\"Your input is invaild, please run the program again!\")\n",
    "            break\n",
    "            # If input a invaild index, tell user it's wrong and shutdown.\n",
    "        print(res[int(index)])\n",
    "        break\n",
    "    else:\n",
    "        res.append(value) # Add value to list\n"
   ]
  },
  {
   "cell_type": "code",
   "execution_count": null,
   "metadata": {},
   "outputs": [],
   "source": []
  }
 ],
 "metadata": {
  "kernelspec": {
   "display_name": "Python 3",
   "language": "python",
   "name": "python3"
  },
  "language_info": {
   "codemirror_mode": {
    "name": "ipython",
    "version": 3
   },
   "file_extension": ".py",
   "mimetype": "text/x-python",
   "name": "python",
   "nbconvert_exporter": "python",
   "pygments_lexer": "ipython3",
   "version": "3.7.3"
  }
 },
 "nbformat": 4,
 "nbformat_minor": 4
}
