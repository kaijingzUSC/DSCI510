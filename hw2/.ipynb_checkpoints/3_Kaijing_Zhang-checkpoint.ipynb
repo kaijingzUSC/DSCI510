{
 "cells": [
  {
   "cell_type": "code",
   "execution_count": null,
   "metadata": {},
   "outputs": [],
   "source": [
    "'''\n",
    "Creat an empty list.\n",
    "While True:\n",
    "    Let user enter a value as input\n",
    "    if input is 'done', \n",
    "        then print out the list\n",
    "        Let user enter a index which must be a vaild integer, \n",
    "            which means cannot exceed the index of the list. \n",
    "        print out the value in the list at the index. \n",
    "        break\n",
    "    else \n",
    "        add the input to the list.\n",
    "'''\n"
   ]
  }
 ],
 "metadata": {
  "kernelspec": {
   "display_name": "Python 3",
   "language": "python",
   "name": "python3"
  },
  "language_info": {
   "codemirror_mode": {
    "name": "ipython",
    "version": 3
   },
   "file_extension": ".py",
   "mimetype": "text/x-python",
   "name": "python",
   "nbconvert_exporter": "python",
   "pygments_lexer": "ipython3",
   "version": "3.7.3"
  }
 },
 "nbformat": 4,
 "nbformat_minor": 4
}
