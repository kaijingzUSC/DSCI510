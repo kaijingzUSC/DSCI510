{
 "cells": [
  {
   "cell_type": "code",
   "execution_count": 1,
   "metadata": {},
   "outputs": [],
   "source": [
    "def question2(input1):\n",
    "    output = list() # Create a empty list as output\n",
    "    for item in input1:\n",
    "        if type(item) == int or type(item) == float: \n",
    "            output.append(abs(item))\n",
    "            # If the element is a numeric value, then add its absolut value to list. \n",
    "        else:\n",
    "            try:\n",
    "                convert = int(item)\n",
    "                # If it's a non-numeric value, then try to convert it to integer.\n",
    "                output.append(abs(convert))\n",
    "                # If succeed, add it to list. \n",
    "            except ValueError:\n",
    "                try:\n",
    "                    convert = float(item)\n",
    "                    # If fail, try to convert it to float\n",
    "                    output.append(abs(convert))\n",
    "                    # If succeed for second try, add it to list.\n",
    "                except ValueError:\n",
    "                    # If fail agian, then means it cannot be coverted to a numeric value. \n",
    "                    continue\n",
    "                continue\n",
    "    return output\n"
   ]
  },
  {
   "cell_type": "code",
   "execution_count": 2,
   "metadata": {},
   "outputs": [
    {
     "data": {
      "text/plain": [
       "[1, 0.1, 2, 0.0, 1, 10, 111]"
      ]
     },
     "execution_count": 2,
     "metadata": {},
     "output_type": "execute_result"
    }
   ],
   "source": [
    "question2(['DSCI-510', -1, 0.1, 2, 'US', '0.0', '-1', \"-10\", \"asda\", \"111\"] )"
   ]
  },
  {
   "cell_type": "code",
   "execution_count": null,
   "metadata": {},
   "outputs": [],
   "source": []
  }
 ],
 "metadata": {
  "kernelspec": {
   "display_name": "Python 3",
   "language": "python",
   "name": "python3"
  },
  "language_info": {
   "codemirror_mode": {
    "name": "ipython",
    "version": 3
   },
   "file_extension": ".py",
   "mimetype": "text/x-python",
   "name": "python",
   "nbconvert_exporter": "python",
   "pygments_lexer": "ipython3",
   "version": "3.7.3"
  }
 },
 "nbformat": 4,
 "nbformat_minor": 4
}
