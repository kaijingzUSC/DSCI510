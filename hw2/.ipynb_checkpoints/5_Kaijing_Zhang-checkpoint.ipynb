{
 "cells": [
  {
   "cell_type": "code",
   "execution_count": null,
   "metadata": {},
   "outputs": [],
   "source": [
    "'''\n",
    "Define a function and its argument is a list input:\n",
    "    Create an empty list as output\n",
    "    For item in the input:\n",
    "        if item is a numeric value:\n",
    "            Add its absolute value to output list\n",
    "        elif item is a non-numeric value but it can be converted to a numeric value:\n",
    "            Convert it to a numeric value and add it to output list\n",
    "    return output\n",
    "'''\n"
   ]
  }
 ],
 "metadata": {
  "kernelspec": {
   "display_name": "Python 3",
   "language": "python",
   "name": "python3"
  },
  "language_info": {
   "codemirror_mode": {
    "name": "ipython",
    "version": 3
   },
   "file_extension": ".py",
   "mimetype": "text/x-python",
   "name": "python",
   "nbconvert_exporter": "python",
   "pygments_lexer": "ipython3",
   "version": "3.7.3"
  }
 },
 "nbformat": 4,
 "nbformat_minor": 4
}
