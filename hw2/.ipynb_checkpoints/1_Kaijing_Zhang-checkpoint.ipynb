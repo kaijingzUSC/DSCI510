{
 "cells": [
  {
   "cell_type": "code",
   "execution_count": null,
   "metadata": {},
   "outputs": [],
   "source": [
    "ten = 1\n",
    "one = 10\n",
    "zero = -1\n",
    "# a). # It will be a list from 0 to (one - 1) i.e. (10 - 1).\n",
    "list(range(one)) \n",
    "# Output: [0, 1, 2, 3, 4, 5, 6, 7, 8, 9]\n",
    "# b). # It will be a list from zero(-1) to (one - 1). \n",
    "list(range(zero, one)) \n",
    "# Output: [-1, 0, 1, 2, 3, 4, 5, 6, 7, 8, 9]\n",
    "# c). # It will be the element at index zero in a list from zero to (one - 1). \n",
    "list(range(zero, one))[zero] \n",
    "# Output: 9\n",
    "# d). # It will be the element from first list and index is the element of second list with index (one - 1). \n",
    "list(range(zero, one))[list(range(zero, one))[one - 1]] \n",
    "# Output: 7\n",
    "# e). # It will be a subarray of the list from one to (zero -1) and increment by ten. The subarray is from (ten - zero) to (one + zero - 1). \n",
    "list(range(one, ten, zero))[ten - zero : one + zero ]\n",
    "# Output: [8, 7, 6, 5, 4, 3, 2]\n"
   ]
  },
  {
   "cell_type": "code",
   "execution_count": null,
   "metadata": {},
   "outputs": [],
   "source": []
  }
 ],
 "metadata": {
  "kernelspec": {
   "display_name": "Python 3",
   "language": "python",
   "name": "python3"
  },
  "language_info": {
   "codemirror_mode": {
    "name": "ipython",
    "version": 3
   },
   "file_extension": ".py",
   "mimetype": "text/x-python",
   "name": "python",
   "nbconvert_exporter": "python",
   "pygments_lexer": "ipython3",
   "version": "3.7.3"
  }
 },
 "nbformat": 4,
 "nbformat_minor": 4
}
