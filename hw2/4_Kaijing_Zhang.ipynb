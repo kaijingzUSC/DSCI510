{
 "cells": [
  {
   "cell_type": "code",
   "execution_count": null,
   "metadata": {},
   "outputs": [],
   "source": [
    "res = list()\n",
    "while(True):\n",
    "    value = input(\"Please enter a value: \") # Let user enter a value\n",
    "    if value.lower() == 'done': # If user want to end, then stop and print\n",
    "        print(res)\n",
    "        mini = -len(res) \n",
    "        maxi = len(res) - 1 # Calculate the range of possible index\n",
    "        break\n",
    "    else:\n",
    "        res.append(value) # Add value to list\n",
    "\n",
    "while(True):\n",
    "    try:\n",
    "        index = input(f\"Please enter an integer between {mini} and {maxi}: \")\n",
    "        print(res[int(index)])\n",
    "        break\n",
    "        # Remind user what index is vaild, and if true, then break\n",
    "    except (ValueError, IndexError):\n",
    "        print(\"Your input is invaild!\")\n",
    "    # If input is a invaild index, catch error and prompt for re-entry."
   ]
  },
  {
   "cell_type": "code",
   "execution_count": null,
   "metadata": {},
   "outputs": [],
   "source": []
  }
 ],
 "metadata": {
  "kernelspec": {
   "display_name": "Python 3",
   "language": "python",
   "name": "python3"
  },
  "language_info": {
   "codemirror_mode": {
    "name": "ipython",
    "version": 3
   },
   "file_extension": ".py",
   "mimetype": "text/x-python",
   "name": "python",
   "nbconvert_exporter": "python",
   "pygments_lexer": "ipython3",
   "version": "3.7.3"
  }
 },
 "nbformat": 4,
 "nbformat_minor": 4
}
