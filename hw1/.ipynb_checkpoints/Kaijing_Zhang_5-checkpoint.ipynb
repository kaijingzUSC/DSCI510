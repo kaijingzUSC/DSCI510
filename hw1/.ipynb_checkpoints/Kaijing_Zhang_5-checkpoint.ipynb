{
 "cells": [
  {
   "cell_type": "code",
   "execution_count": null,
   "metadata": {},
   "outputs": [],
   "source": [
    "'''\n",
    "Let user enter a number in inches marked as \"number\".\n",
    "print(\"Your entered: \")\n",
    "If the \"number\" is smaller than 12:\n",
    "    print(str(number) + \"inch\") and stop\n",
    "If the \"number\" can be convert to at least one mile, which means if the number is larger than 63360:\n",
    "    then let the number divide by 63360 and get \"quotient_1\" and \"remainder_1\".\n",
    "    print(str(quotient_1) + \"mile\")\n",
    "If the remainder_1 can be convert to at least one yard, which means if the number is larger than 36:\n",
    "    then let the number divide by 36 and get \"quotient_2\" and \"remainder_2\".\n",
    "    print(str(quotient_2) + \"yard\")\n",
    "If the remainder_2 can be convert to at least one feet, which means if the number is larger than 12:\n",
    "    then let the number divide by 12 and get \"quotient_3\" and \"remainder_3\".\n",
    "    print(str(quotient_3) + \"feet\")\n",
    "If the remainder_3 is larger than zero:\n",
    "    print(str(remainder_3) + \"inch\")\n",
    "'''"
   ]
  }
 ],
 "metadata": {
  "kernelspec": {
   "display_name": "Python 3",
   "language": "python",
   "name": "python3"
  },
  "language_info": {
   "codemirror_mode": {
    "name": "ipython",
    "version": 3
   },
   "file_extension": ".py",
   "mimetype": "text/x-python",
   "name": "python",
   "nbconvert_exporter": "python",
   "pygments_lexer": "ipython3",
   "version": "3.7.3"
  }
 },
 "nbformat": 4,
 "nbformat_minor": 4
}
