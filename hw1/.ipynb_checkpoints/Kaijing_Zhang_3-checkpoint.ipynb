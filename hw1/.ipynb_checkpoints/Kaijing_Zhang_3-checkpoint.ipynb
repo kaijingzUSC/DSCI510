{
 "cells": [
  {
   "cell_type": "code",
   "execution_count": null,
   "metadata": {},
   "outputs": [],
   "source": [
    "'''\n",
    "Generate a random integer number \"rand\" between 1 and 10.\n",
    "Let user guess one number \"guess\".\n",
    "While the \"guess\" is not equal to \"rand\":\n",
    "    if the \"guess\" is higher than \"rand\":\n",
    "        Then tell user it's higher.\n",
    "    elif the \"guess\" is lower than \"rand\":\n",
    "        Then tell user it's lower.\n",
    "    Let user guess one number \"guess\" again.\n",
    "Tell user it's correct and the program terminate. \n",
    "'''"
   ]
  }
 ],
 "metadata": {
  "kernelspec": {
   "display_name": "Python 3",
   "language": "python",
   "name": "python3"
  },
  "language_info": {
   "codemirror_mode": {
    "name": "ipython",
    "version": 3
   },
   "file_extension": ".py",
   "mimetype": "text/x-python",
   "name": "python",
   "nbconvert_exporter": "python",
   "pygments_lexer": "ipython3",
   "version": "3.7.3"
  }
 },
 "nbformat": 4,
 "nbformat_minor": 4
}
