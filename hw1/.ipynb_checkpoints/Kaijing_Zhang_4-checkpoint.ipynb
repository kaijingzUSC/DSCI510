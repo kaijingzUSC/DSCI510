{
 "cells": [
  {
   "cell_type": "code",
   "execution_count": null,
   "metadata": {},
   "outputs": [],
   "source": [
    "def guess_number():\n",
    "    import random\n",
    "    rand = random.randint(1,10)\n",
    "    count = 0\n",
    "    try:\n",
    "        guess = int(input(\"Please guess an integer between 1 and 10: \"))\n",
    "        count += 1\n",
    "    except:\n",
    "        guess = int(input(\"Please enter an !integer! between 1 and 10: \"))\n",
    "    while guess != rand:\n",
    "        if guess > rand:\n",
    "            print(\"Your guess is higher than the random number.\")\n",
    "        elif guess < rand:\n",
    "            print(\"Your guess is lower than the random number.\")\n",
    "        try:\n",
    "            guess = int(input(\"Please guess an integer between 1 and 10 again: \"))\n",
    "            count += 1\n",
    "        except:\n",
    "            guess = int(input(\"Please enter an !integer! between 1 and 10: \"))\n",
    "    print(\"Congratulations! Your guess is correct.\")\n",
    "    print(f\"You tried {count} times\")\n"
   ]
  }
 ],
 "metadata": {
  "kernelspec": {
   "display_name": "Python 3",
   "language": "python",
   "name": "python3"
  },
  "language_info": {
   "codemirror_mode": {
    "name": "ipython",
    "version": 3
   },
   "file_extension": ".py",
   "mimetype": "text/x-python",
   "name": "python",
   "nbconvert_exporter": "python",
   "pygments_lexer": "ipython3",
   "version": "3.7.3"
  }
 },
 "nbformat": 4,
 "nbformat_minor": 4
}
