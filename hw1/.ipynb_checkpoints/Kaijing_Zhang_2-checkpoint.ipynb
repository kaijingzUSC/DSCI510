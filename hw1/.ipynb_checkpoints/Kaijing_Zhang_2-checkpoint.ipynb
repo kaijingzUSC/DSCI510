{
 "cells": [
  {
   "cell_type": "code",
   "execution_count": null,
   "metadata": {},
   "outputs": [],
   "source": [
    "# a). Python is a dynamically typed language\n",
    "# b). Values from the input() function in Python are returned as a string\n",
    "# c).  The value of: True or not False and not True or False or \"True\" and \"False\" and \"Frank\"\n",
    "# is True\n",
    "# d).  Building a skeleton with stubs is an example of the top down programming paradigm\n",
    "# e).  Which function tells you the type of a Python object? type()\n"
   ]
  }
 ],
 "metadata": {
  "kernelspec": {
   "display_name": "Python 3",
   "language": "python",
   "name": "python3"
  },
  "language_info": {
   "codemirror_mode": {
    "name": "ipython",
    "version": 3
   },
   "file_extension": ".py",
   "mimetype": "text/x-python",
   "name": "python",
   "nbconvert_exporter": "python",
   "pygments_lexer": "ipython3",
   "version": "3.7.3"
  }
 },
 "nbformat": 4,
 "nbformat_minor": 4
}
