{
 "cells": [
  {
   "cell_type": "code",
   "execution_count": null,
   "metadata": {},
   "outputs": [],
   "source": [
    "ten = 1 \n",
    "one = 10\n",
    "zero = 1\n",
    "tenplusone = \"ten\" + \"one\"\n",
    "\n",
    "print(ten + one)\n",
    "# a) Output: 11\n",
    "\n",
    "print(ten + 1)\n",
    "# b) Output: 2\n",
    "\n",
    "print(one - 1 * zero - 0 + 10 ** ten)\n",
    "# c) Output: 19\n",
    "\n",
    "if zero - 1:\n",
    "    print('ten')\n",
    "# d) It will not print anything because zero - 1 is equal to 0, which means False. \n",
    "\n",
    "print(int(one) * 10 % 1 / int(ten) + 1 ** 10)\n",
    "# e) Output: 1.0\n",
    "\n",
    "print('tenplusone' + tenplusone + 'ten' + one)\n",
    "# f) TypeError: can only concatenate str (not \"int\") to str. \n",
    "# Because one is an integer not an string, it can't be printed. \n"
   ]
  }
 ],
 "metadata": {
  "kernelspec": {
   "display_name": "Python 3",
   "language": "python",
   "name": "python3"
  },
  "language_info": {
   "codemirror_mode": {
    "name": "ipython",
    "version": 3
   },
   "file_extension": ".py",
   "mimetype": "text/x-python",
   "name": "python",
   "nbconvert_exporter": "python",
   "pygments_lexer": "ipython3",
   "version": "3.7.3"
  }
 },
 "nbformat": 4,
 "nbformat_minor": 4
}
