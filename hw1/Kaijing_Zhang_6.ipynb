{
 "cells": [
  {
   "cell_type": "code",
   "execution_count": null,
   "metadata": {},
   "outputs": [],
   "source": [
    "def convert_distance(number):\n",
    "    print(\"Your entered: \")\n",
    "    if number < 12:\n",
    "        print(str(number) + \" inch\")\n",
    "        return\n",
    "    if number >= 63360:\n",
    "        quotient1 = number // 63360\n",
    "        number = number % 63360\n",
    "        print(str(quotient1) + \" mile\")\n",
    "    if number >= 36:\n",
    "        quotient2 = number // 36\n",
    "        number = number % 36\n",
    "        print(str(quotient2) + \" yard\")\n",
    "    if number >= 12:\n",
    "        quotient3 = number // 12\n",
    "        number = number % 12\n",
    "        print(str(quotient3) + \" feet\")\n",
    "    if number > 0:\n",
    "        print(str(number) + \" inch\")\n"
   ]
  }
 ],
 "metadata": {
  "kernelspec": {
   "display_name": "Python 3",
   "language": "python",
   "name": "python3"
  },
  "language_info": {
   "codemirror_mode": {
    "name": "ipython",
    "version": 3
   },
   "file_extension": ".py",
   "mimetype": "text/x-python",
   "name": "python",
   "nbconvert_exporter": "python",
   "pygments_lexer": "ipython3",
   "version": "3.7.3"
  }
 },
 "nbformat": 4,
 "nbformat_minor": 4
}
